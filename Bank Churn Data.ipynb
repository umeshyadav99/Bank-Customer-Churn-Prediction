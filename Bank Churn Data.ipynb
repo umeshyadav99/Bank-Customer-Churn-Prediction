{
 "cells": [
  {
   "cell_type": "code",
   "execution_count": null,
   "metadata": {},
   "outputs": [],
   "source": [
    "# This Python 3 environment comes with many helpful analytics libraries installed\n",
    "# It is defined by the kaggle/python Docker image: https://github.com/kaggle/docker-python\n",
    "# For example, here's several helpful packages to load\n",
    "\n",
    "import numpy as np # linear algebra\n",
    "import pandas as pd # data processing, CSV file I/O (e.g. pd.read_csv)\n",
    "\n",
    "# Input data files are available in the read-only \"../input/\" directory\n",
    "# For example, running this (by clicking run or pressing Shift+Enter) will list all files under the input directory\n",
    "\n",
    "import os\n",
    "for dirname, _, filenames in os.walk('/kaggle/input'):\n",
    "    for filename in filenames:\n",
    "        print(os.path.join(dirname, filename))\n",
    "\n",
    "# You can write up to 5GB to the current directory (/kaggle/working/) that gets preserved as output when you create a version using \"Save & Run All\" \n",
    "# You can also write temporary files to /kaggle/temp/, but they won't be saved outside of the current session"
   ]
  },
  {
   "cell_type": "markdown",
   "metadata": {
    "id": "BexUfLMA3P1W"
   },
   "source": [
    "[Link to Git Repository](https://github.com/Apurva-tech/IET.git)"
   ]
  },
  {
   "cell_type": "markdown",
   "metadata": {
    "id": "83cz7toMDSXk"
   },
   "source": [
    "# Load Dataset"
   ]
  },
  {
   "cell_type": "code",
   "execution_count": null,
   "metadata": {
    "id": "NLgTeE2t_Ybt",
    "outputId": "9dc70ab1-91a3-44fe-a482-3be6983602ed"
   },
   "outputs": [],
   "source": [
    "import pandas as pd\n",
    "df = pd.read_csv('../input/predicting-churn-for-bank-customers/Churn_Modelling.csv')\n",
    "df.head()"
   ]
  },
  {
   "cell_type": "code",
   "execution_count": null,
   "metadata": {
    "id": "qBqSFuhx_1Mh",
    "outputId": "b01e7984-e8b9-4219-c34f-774088a49e06"
   },
   "outputs": [],
   "source": [
    "df.shape"
   ]
  },
  {
   "cell_type": "code",
   "execution_count": null,
   "metadata": {
    "id": "KUG-Dnn9DJDE",
    "outputId": "f65dd286-b5e6-4c4c-b72b-ea3ad64aafcf"
   },
   "outputs": [],
   "source": [
    "df.info()"
   ]
  },
  {
   "cell_type": "markdown",
   "metadata": {
    "id": "BLp0aG9ADzmD"
   },
   "source": [
    "Number of unique values for categorical data :"
   ]
  },
  {
   "cell_type": "code",
   "execution_count": null,
   "metadata": {
    "id": "jlObw6_vDY8i",
    "outputId": "a91f90a3-37a8-4544-a95f-c5948e5b450b"
   },
   "outputs": [],
   "source": [
    "len(df[\"Geography\"].unique())"
   ]
  },
  {
   "cell_type": "code",
   "execution_count": null,
   "metadata": {
    "id": "1D74xG7pDmry",
    "outputId": "e016043b-afeb-49fd-c76b-25424e41fa5e"
   },
   "outputs": [],
   "source": [
    "len(df[\"Surname\"].unique())"
   ]
  },
  {
   "cell_type": "code",
   "execution_count": null,
   "metadata": {
    "id": "wOw5_MoWHcV5",
    "outputId": "7de11d41-d9d0-4994-f7e1-bf2cc828cd1d"
   },
   "outputs": [],
   "source": [
    "len(df[\"Exited\"].unique())"
   ]
  },
  {
   "cell_type": "code",
   "execution_count": null,
   "metadata": {
    "id": "wQFz4hYaSwQ1",
    "outputId": "62ebbd31-c19c-4b10-a2ee-772e2921c8ab"
   },
   "outputs": [],
   "source": [
    "# Get unique count for each variable\n",
    "df.nunique()"
   ]
  },
  {
   "cell_type": "code",
   "execution_count": null,
   "metadata": {
    "id": "9De9Pju3S0IR"
   },
   "outputs": [],
   "source": [
    "# Drop the columns as explained above\n",
    "df = df.drop([\"RowNumber\", \"CustomerId\", \"Surname\"], axis = 1)"
   ]
  },
  {
   "cell_type": "markdown",
   "metadata": {
    "id": "4Y2llUcWEOd1"
   },
   "source": [
    "# Data Analysis"
   ]
  },
  {
   "cell_type": "code",
   "execution_count": null,
   "metadata": {
    "id": "d7aIOYqLD_gW",
    "outputId": "4b75efa1-7ad7-48bb-d550-7aec60d40abb"
   },
   "outputs": [],
   "source": [
    "print(\"Min age in dataset\", min(df[\"Age\"].unique()))\n",
    "print(\"Max age in dataset\", max(df[\"Age\"].unique()))"
   ]
  },
  {
   "cell_type": "code",
   "execution_count": null,
   "metadata": {
    "id": "8cZXxgAUEkIS",
    "outputId": "a3a4c416-57a0-492c-8b00-c944b1040452"
   },
   "outputs": [],
   "source": [
    "print(\"Min NumOfProducts in dataset\", min(df[\"NumOfProducts\"].unique()))\n",
    "print(\"Max NumOfProducts in dataset\", max(df[\"NumOfProducts\"].unique()))"
   ]
  },
  {
   "cell_type": "code",
   "execution_count": null,
   "metadata": {
    "id": "MP2I--2mE1gp",
    "outputId": "45e55ac2-10e0-4983-bb89-a8276abe48ee"
   },
   "outputs": [],
   "source": [
    "print(\"Min CreditScore in dataset\", min(df[\"CreditScore\"].unique()))\n",
    "print(\"Max CreditScore in dataset\", max(df[\"CreditScore\"].unique()))"
   ]
  },
  {
   "cell_type": "code",
   "execution_count": null,
   "metadata": {
    "id": "9B4kogHoGL3k",
    "outputId": "d99c34e7-e481-4226-8b02-f8f91137d947"
   },
   "outputs": [],
   "source": [
    "print(\"Min Tenure in dataset\", min(df[\"Tenure\"].unique()))\n",
    "print(\"Max Tenure in dataset\", max(df[\"Tenure\"].unique()))"
   ]
  },
  {
   "cell_type": "code",
   "execution_count": null,
   "metadata": {
    "id": "K6MhtijmGtJt",
    "outputId": "d3d872dd-d3a0-4f55-f692-96b5a218673b"
   },
   "outputs": [],
   "source": [
    "print(\"Min Tenure in dataset\", min(df[\"Exited\"].unique()))\n",
    "print(\"Max Tenure in dataset\", max(df[\"Exited\"].unique()))"
   ]
  },
  {
   "cell_type": "code",
   "execution_count": null,
   "metadata": {
    "id": "kGPw4WIlIjuY",
    "outputId": "1bc42a82-030f-4690-c09b-08ef46ad7377"
   },
   "outputs": [],
   "source": [
    "df.head()"
   ]
  },
  {
   "cell_type": "code",
   "execution_count": null,
   "metadata": {
    "id": "6LUIPBTHIloK",
    "outputId": "33dfcd2c-be1b-40c3-e919-56ad9f0f9a87"
   },
   "outputs": [],
   "source": [
    "print(\"Shape of the dataset \",df.shape)"
   ]
  },
  {
   "cell_type": "code",
   "execution_count": null,
   "metadata": {
    "id": "yvVKqBp4I4Fe",
    "outputId": "9edbe3d5-ebe2-4674-8071-062a0366833d"
   },
   "outputs": [],
   "source": [
    "df.describe()"
   ]
  },
  {
   "cell_type": "markdown",
   "metadata": {
    "id": "Zd45ydPhM3Ko"
   },
   "source": [
    "# Imputing Data"
   ]
  },
  {
   "cell_type": "code",
   "execution_count": null,
   "metadata": {
    "id": "a1HLfa2hM58e",
    "outputId": "6f2b940a-de5b-482a-de0b-bb3e48db5534"
   },
   "outputs": [],
   "source": [
    "df.isnull().sum()"
   ]
  },
  {
   "cell_type": "markdown",
   "metadata": {
    "id": "Ajqd5LUjUq1H"
   },
   "source": [
    "The data is already imputed"
   ]
  },
  {
   "cell_type": "code",
   "execution_count": null,
   "metadata": {
    "id": "j95zeMenU51W"
   },
   "outputs": [],
   "source": [
    "df1 = df.copy()"
   ]
  },
  {
   "cell_type": "code",
   "execution_count": null,
   "metadata": {
    "id": "BPEDtKzkJOOg",
    "outputId": "fc5eeaf8-f7f4-44a0-aa4b-8c61b18b47d3"
   },
   "outputs": [],
   "source": [
    "import matplotlib.pyplot as plt\n",
    "import seaborn as sns"
   ]
  },
  {
   "cell_type": "code",
   "execution_count": null,
   "metadata": {
    "id": "ye7ucJe_JFka",
    "outputId": "7a38888e-fedd-4ef0-c6d0-316a73b083dc"
   },
   "outputs": [],
   "source": [
    "corr = df.corr()\n",
    "plt.figure(figsize = (12,12))\n",
    "sns.heatmap(corr  , linewidths= 0.01 , linecolor= \"white\" , cmap= \"coolwarm\" , annot = True).set_title(\"Correlation\".upper())"
   ]
  },
  {
   "cell_type": "markdown",
   "metadata": {
    "id": "IO82TIwVwWu-"
   },
   "source": [
    "# Data Visualisation  "
   ]
  },
  {
   "cell_type": "code",
   "execution_count": null,
   "metadata": {
    "id": "-VtsbavgwWCw",
    "outputId": "71c25c2c-0e7a-4298-e18e-2dcdb102c638"
   },
   "outputs": [],
   "source": [
    "size  = df[\"IsActiveMember\"].value_counts(sort =True)\n",
    "colors = [\"magenta\",\"mediumslateblue\"]\n",
    "labels = [\"Yes\",\"No\"]\n",
    "explode = (0, 0.1)\n",
    "plt.figure(figsize=(10 , 8))\n",
    "plt.pie(size,colors=colors,autopct='%1.1f%%',shadow=True,startangle = 270 ,explode= explode, labels=labels)\n",
    "plt.title(\"Active and Non active member\")\n",
    "plt.show()"
   ]
  },
  {
   "cell_type": "code",
   "execution_count": null,
   "metadata": {
    "id": "glm5NVFXTGXq",
    "outputId": "0e8ea693-07d5-4c1b-b36d-1198af964458"
   },
   "outputs": [],
   "source": [
    "labels = 'active', 'non active' \n",
    "colors = [\"magenta\",\"mediumslateblue\"]\n",
    "\n",
    "sizes = [df.Exited[df['Exited']==1].count(), df.Exited[df['Exited']==0].count()]\n",
    "explode = (0, 0.1)\n",
    "fig1, ax1 = plt.subplots(figsize=(10, 8))\n",
    "ax1.pie(sizes, explode=explode, labels=labels, autopct='%1.1f%%',\n",
    "        shadow=True, startangle=90 , colors = colors)\n",
    "ax1.axis('equal')\n",
    "plt.title(\"Proportion of customer active and non active\", size = 20)\n",
    "plt.show()"
   ]
  },
  {
   "cell_type": "code",
   "execution_count": null,
   "metadata": {
    "id": "pUu6jPoUxy5Q",
    "outputId": "31a53705-74bc-490a-a65a-6b0ce2c7f127"
   },
   "outputs": [],
   "source": [
    "plt.figure(figsize=(8,4))\n",
    "sns.countplot(x='IsActiveMember', data= df , palette= \"magma\",hue = \"Gender\")"
   ]
  },
  {
   "cell_type": "code",
   "execution_count": null,
   "metadata": {
    "id": "BWhT6XJVzokv",
    "outputId": "d9c6d08f-261e-4270-a17f-1dce65824c05"
   },
   "outputs": [],
   "source": [
    "plt.figure(figsize=(8,4))\n",
    "sns.countplot(x='IsActiveMember', data= df , palette= \"icefire\",hue = \"Geography\")"
   ]
  },
  {
   "cell_type": "code",
   "execution_count": null,
   "metadata": {
    "id": "pYa24WzB3esd",
    "outputId": "a494c3a7-15a7-41cd-c218-9638cd59dc24"
   },
   "outputs": [],
   "source": [
    "plt.figure(figsize=(8,4))\n",
    "sns.countplot(x='IsActiveMember', data= df , palette= \"YlOrRd\",hue = \"Exited\")"
   ]
  },
  {
   "cell_type": "code",
   "execution_count": null,
   "metadata": {
    "id": "03fBIUj66eBb",
    "outputId": "93a635c6-8fa5-4777-d061-b76b77731f54"
   },
   "outputs": [],
   "source": [
    "num_projects=df.groupby('Geography').count()\n",
    "plt.bar(num_projects.index.values, num_projects['Gender'] , color = \"slateblue\" , edgecolor = \"navy\" ,linewidth = 5 )\n",
    "plt.xlabel('Geography')\n",
    "plt.ylabel('Gender')\n",
    "plt.show()"
   ]
  },
  {
   "cell_type": "code",
   "execution_count": null,
   "metadata": {
    "id": "JMFqMOBg7q80",
    "outputId": "9533c092-0786-43ea-a1c6-d40d92fea168"
   },
   "outputs": [],
   "source": [
    "num_projects=df.groupby('NumOfProducts').count()\n",
    "plt.bar(num_projects.index.values, num_projects['Gender'] , color = \"slateblue\" , edgecolor = \"navy\" ,linewidth = 5 )\n",
    "plt.xlabel('NumOfProducts')\n",
    "plt.ylabel('Gender')\n",
    "plt.show()"
   ]
  },
  {
   "cell_type": "markdown",
   "metadata": {
    "id": "7VA4kY-4n-zn"
   },
   "source": [
    "# Treating the categorical Data"
   ]
  },
  {
   "cell_type": "code",
   "execution_count": null,
   "metadata": {
    "id": "g0aoacnOFl-s"
   },
   "outputs": [],
   "source": [
    "import numpy as np\n",
    "bins = [ 0, 18, 24, 35, 60,92, 100]\n",
    "labels = [\"Unknown\",'Teenager', 'Student', 'Young Adult', 'Adult', 'Senior']\n",
    "df[\"age\"] = df[\"Age\"]\n",
    "df['AgeGroup'] = pd.cut(df[\"Age\"], bins, labels = labels)\n",
    "df[\"AgeGroup\"].isnull().sum()\n",
    "\n",
    "age_mapping = {\"Unknown\":0,'Teenager': 1, 'Student': 2, 'Young Adult': 3, 'Adult': 4, 'Senior': 5}\n",
    "df[\"AgeGroup\"].fillna(value = 'Unknown' ,inplace = True)\n",
    "\n",
    "\n",
    "df['AgeGroup'] = df['AgeGroup'].map(age_mapping).astype(\"int\")\n"
   ]
  },
  {
   "cell_type": "code",
   "execution_count": null,
   "metadata": {
    "id": "pKBOTKlpKmDS",
    "outputId": "7cc2f245-05a2-4ef4-b0e5-6f92c158cd07"
   },
   "outputs": [],
   "source": [
    "print(df[\"AgeGroup\"].unique())"
   ]
  },
  {
   "cell_type": "code",
   "execution_count": null,
   "metadata": {
    "id": "GdXPzVFyK2v9",
    "outputId": "f6f4843d-b140-4fab-9211-6130654925d3"
   },
   "outputs": [],
   "source": [
    "label = {'France':1, 'Germany':2, 'Spain':3}\n",
    "df.replace({'Geography':label}, inplace = True)\n",
    "df.head()"
   ]
  },
  {
   "cell_type": "code",
   "execution_count": null,
   "metadata": {
    "id": "Spp5cVwBLK2V",
    "outputId": "be5dbc08-73fe-4819-94a8-3b324ec50af7"
   },
   "outputs": [],
   "source": [
    "label = {'Female':0, 'Male':1}\n",
    "df.replace({'Gender':label}, inplace = True)\n",
    "df.head()"
   ]
  },
  {
   "cell_type": "markdown",
   "metadata": {
    "id": "23fqe85LV2DJ"
   },
   "source": [
    "# Feature Engineering"
   ]
  },
  {
   "cell_type": "markdown",
   "metadata": {
    "id": "8LZtu2RhpH_w"
   },
   "source": [
    "Adding new column BalanceSalaryRatio to scale data"
   ]
  },
  {
   "cell_type": "code",
   "execution_count": null,
   "metadata": {
    "id": "VUd3KIokVeDV",
    "outputId": "6a35f572-3c98-481f-c4af-389723071d3d"
   },
   "outputs": [],
   "source": [
    "df['BalanceSalaryRatio'] = df.Balance/df.EstimatedSalary\n",
    "sns.boxplot(y='BalanceSalaryRatio',x = 'Exited', hue = 'Exited',data = df , palette= \"bone\")\n",
    "plt.ylim(-1, 5)"
   ]
  },
  {
   "cell_type": "markdown",
   "metadata": {
    "id": "uajeVfUtpWVy"
   },
   "source": [
    "Given that tenure is a 'function' of age, we introduce a variable aiming to standardize tenure over age:\n"
   ]
  },
  {
   "cell_type": "code",
   "execution_count": null,
   "metadata": {
    "id": "EKExwU58WCkQ",
    "outputId": "837dd693-7f3e-41fc-8741-40eccb1e9ec3"
   },
   "outputs": [],
   "source": [
    "df['TenureByAge'] = df.Tenure/(df.age)\n",
    "sns.boxplot(y='TenureByAge',x = 'Exited', hue = 'Exited',data = df , palette = \"Blues\" )\n",
    "plt.ylim(-1, 1)\n",
    "plt.show()"
   ]
  },
  {
   "cell_type": "markdown",
   "metadata": {
    "id": "Gw4pxF2upal4"
   },
   "source": [
    "Lastly we introduce a variable to capture credit score given age to take into account credit behaviour visavis adult life"
   ]
  },
  {
   "cell_type": "code",
   "execution_count": null,
   "metadata": {
    "id": "jQBUXf6iXBN8",
    "outputId": "529189f8-7bfa-49a5-be7a-afa482dc15ae"
   },
   "outputs": [],
   "source": [
    "\n",
    "df['CreditScoreGivenAge'] = df.CreditScore/(df.age)\n",
    "df.head()"
   ]
  },
  {
   "cell_type": "markdown",
   "metadata": {
    "id": "c99JxmJ8pdqN"
   },
   "source": [
    " Arrange columns by data type for easier manipulation"
   ]
  },
  {
   "cell_type": "code",
   "execution_count": null,
   "metadata": {
    "id": "5DzyLNyIZq8D",
    "outputId": "2d5e1e37-9069-4b99-a439-9a2a2dbec8a4"
   },
   "outputs": [],
   "source": [
    "\n",
    "continuous_vars = ['CreditScore',  'AgeGroup', 'Tenure', 'Balance','NumOfProducts', 'EstimatedSalary', 'BalanceSalaryRatio',\n",
    "                   'TenureByAge','CreditScoreGivenAge']\n",
    "cat_vars = ['HasCrCard', 'IsActiveMember','Geography', 'Gender']\n",
    "df = df[['Exited'] + continuous_vars + cat_vars]\n",
    "df.head()"
   ]
  },
  {
   "cell_type": "markdown",
   "metadata": {
    "id": "1l813hCTpiS6"
   },
   "source": [
    "minMax scaling the continuous variables"
   ]
  },
  {
   "cell_type": "code",
   "execution_count": null,
   "metadata": {
    "id": "YGOEhRCcbybW",
    "outputId": "d5dfc2d2-be14-42cd-dc25-e3ae4076f946"
   },
   "outputs": [],
   "source": [
    "\n",
    "minVec = df[continuous_vars].min().copy()\n",
    "maxVec = df[continuous_vars].max().copy()\n",
    "df[continuous_vars] = (df[continuous_vars]-minVec)/(maxVec-minVec)\n",
    "df.head()"
   ]
  },
  {
   "cell_type": "code",
   "execution_count": null,
   "metadata": {
    "id": "EIkjGwDOci4j"
   },
   "outputs": [],
   "source": [
    "def DfPrepPipeline(df_predict,df_Cols,minVec,maxVec):\n",
    "    # Add new features\n",
    "    df_predict['BalanceSalaryRatio'] = df_predict.Balance/df_predict.EstimatedSalary\n",
    "    df_predict['TenureByAge'] = df_predict.Tenure/(df_predict.Age - 18)\n",
    "    df_predict['CreditScoreGivenAge'] = df_predict.CreditScore/(df_predict.Age - 18)\n",
    "    # Reorder the columns\n",
    "    continuous_vars = ['CreditScore','Age','Tenure','Balance','NumOfProducts','EstimatedSalary','BalanceSalaryRatio',\n",
    "                   'TenureByAge','CreditScoreGivenAge']\n",
    "    cat_vars = ['HasCrCard','IsActiveMember',\"Geography\", \"Gender\"] \n",
    "    df_predict = df_predict[['Exited'] + continuous_vars + cat_vars]\n",
    "    # Change the 0 in categorical variables to -1\n",
    "    df_predict.loc[df_predict.HasCrCard == 0, 'HasCrCard'] = -1\n",
    "    df_predict.loc[df_predict.IsActiveMember == 0, 'IsActiveMember'] = -1\n",
    "    # One hot encode the categorical variables\n",
    "    lst = [\"Geography\", \"Gender\"]\n",
    "    remove = list()\n",
    "    for i in lst:\n",
    "        for j in df_predict[i].unique():\n",
    "            df_predict[i+'_'+j] = np.where(df_predict[i] == j,1,-1)\n",
    "        remove.append(i)\n",
    "    df_predict = df_predict.drop(remove, axis=1)\n",
    "    # Ensure that all one hot encoded variables that appear in the train data appear in the subsequent data\n",
    "    L = list(set(df_Cols) - set(df_predict.columns))\n",
    "    for l in L:\n",
    "        df_predict[str(l)] = -1        \n",
    "    # MinMax scaling coontinuous variables based on min and max from the train data\n",
    "    df_predict[continuous_vars] = (df_predict[continuous_vars]-minVec)/(maxVec-minVec)\n",
    "    # Ensure that The variables are ordered in the same way as was ordered in the train set\n",
    "    df_predict = df_predict[df_Cols]\n",
    "    return df_predict\n"
   ]
  },
  {
   "cell_type": "markdown",
   "metadata": {
    "id": "8u5SKwBUplGL"
   },
   "source": [
    "# Splitting Data Into Test and Train sets ( 0.7 )"
   ]
  },
  {
   "cell_type": "code",
   "execution_count": null,
   "metadata": {
    "id": "AFsGx0mzVWw4",
    "outputId": "9f2609f4-3257-43b4-b44f-0b4185ebe531"
   },
   "outputs": [],
   "source": [
    "# Split Train, test data\n",
    "df_train = df.sample(frac=0.7 ,random_state=200)\n",
    "df_test = df.drop(df_train.index)\n",
    "print(len(df_train))\n",
    "print(len(df_test))"
   ]
  },
  {
   "cell_type": "code",
   "execution_count": null,
   "metadata": {
    "id": "PCQzkAxsmDjE",
    "outputId": "628db524-ff19-4d35-9212-12ef57a66a3e"
   },
   "outputs": [],
   "source": [
    "df_test.head()"
   ]
  },
  {
   "cell_type": "code",
   "execution_count": null,
   "metadata": {
    "id": "p_rAin2-cyYp"
   },
   "outputs": [],
   "source": [
    "#Support functions\n",
    "from sklearn.preprocessing import PolynomialFeatures\n",
    "from sklearn.model_selection import cross_val_score\n",
    "from sklearn.model_selection import GridSearchCV\n",
    "from scipy.stats import uniform\n",
    "\n",
    "# Fit models\n",
    "from sklearn.linear_model import LogisticRegression\n",
    "from sklearn.svm import SVC\n",
    "from sklearn.ensemble import RandomForestClassifier\n",
    "from xgboost import XGBClassifier\n",
    "\n",
    "# Scoring functions\n",
    "from sklearn.metrics import accuracy_score\n",
    "from sklearn.metrics import classification_report\n",
    "from sklearn.metrics import roc_auc_score\n",
    "from sklearn.metrics import roc_curve\n"
   ]
  },
  {
   "cell_type": "code",
   "execution_count": null,
   "metadata": {
    "id": "MOID6jArcyS7"
   },
   "outputs": [],
   "source": [
    "# Function to give best model score and parameters\n",
    "def best_model(model):\n",
    "    print(model.best_score_)    \n",
    "    print(model.best_params_)\n",
    "    print(model.best_estimator_)\n",
    "def get_auc_scores(y_actual, method,method2):\n",
    "    auc_score = roc_auc_score(y_actual, method); \n",
    "    fpr_df, tpr_df, _ = roc_curve(y_actual, method2); \n",
    "    return (auc_score, fpr_df, tpr_df)"
   ]
  },
  {
   "cell_type": "markdown",
   "metadata": {
    "id": "dtdx_Lm2pyvz"
   },
   "source": [
    "# Logistic Regression Model "
   ]
  },
  {
   "cell_type": "code",
   "execution_count": null,
   "metadata": {
    "id": "ctGuR7yCdG5w",
    "outputId": "14d9129b-55a9-4cfe-a301-f85d94bd2d43"
   },
   "outputs": [],
   "source": [
    "log_primal = LogisticRegression(C=100, class_weight=None, dual=False, fit_intercept=True,intercept_scaling=1, max_iter=250, multi_class='auto',n_jobs=None, \n",
    "                                penalty='l2', random_state=None, solver='lbfgs',tol=1e-05, verbose=0, warm_start=False)\n",
    "log_primal.fit(df_train.loc[:, df_train.columns != 'Exited'],df_train.Exited)\n",
    "print(\"Classification Report for Logistic Regression\")\n",
    "print(classification_report(df_test.Exited, log_primal.predict(df_test.loc[:, df_test.columns != 'Exited'])))"
   ]
  },
  {
   "cell_type": "markdown",
   "metadata": {
    "id": "3B4oLp5kp8aJ"
   },
   "source": [
    "# Logistic regression with pol 2 kernel"
   ]
  },
  {
   "cell_type": "code",
   "execution_count": null,
   "metadata": {
    "id": "ZheXFWCjfG1d",
    "outputId": "d98dc967-b2c3-4a69-ddf0-771b8e31fd7c"
   },
   "outputs": [],
   "source": [
    "\n",
    "poly2 = PolynomialFeatures(degree=2)\n",
    "df_train_pol2 = poly2.fit_transform(df_train.loc[:, df_train.columns != 'Exited'])\n",
    "log_pol2 = LogisticRegression(C=10, class_weight=None, dual=False, fit_intercept=True,intercept_scaling=1, max_iter=300, multi_class='auto', n_jobs=None, \n",
    "                              penalty='l2', random_state=None, solver='liblinear',tol=0.0001, verbose=0, warm_start=False)\n",
    "log_pol2.fit(df_train_pol2,df_train.Exited)\n",
    "print(\"Classification Report for logistic regression with pol 2 kernel\")\n",
    "\n",
    "print(classification_report(df_train.Exited,  log_pol2.predict(df_train_pol2)))"
   ]
  },
  {
   "cell_type": "markdown",
   "metadata": {
    "id": "fo30fKEGqDDT"
   },
   "source": [
    "# SVM with RBF Kernel"
   ]
  },
  {
   "cell_type": "code",
   "execution_count": null,
   "metadata": {
    "id": "vSKmynoygO90",
    "outputId": "484c52b9-f306-4e6b-892b-fe66df94a35b"
   },
   "outputs": [],
   "source": [
    "\n",
    "SVM_RBF = SVC(C=100, cache_size=200, class_weight=None, coef0=0.0, decision_function_shape='ovr', degree=3, gamma=0.1, kernel='rbf', max_iter=-1, probability=True, \n",
    "              random_state=None, shrinking=True,tol=0.001, verbose=False)\n",
    "SVM_RBF.fit(df_train.loc[:, df_train.columns != 'Exited'],df_train.Exited)\n",
    "print(\"Classification Report for SVM with RBF Kernel\")\n",
    "\n",
    "print(classification_report(df_train.Exited,  SVM_RBF.predict(df_train.loc[:, df_train.columns != 'Exited'])))"
   ]
  },
  {
   "cell_type": "markdown",
   "metadata": {
    "id": "x7zVgbxhqHSb"
   },
   "source": [
    "# SVM with Pol Kernel"
   ]
  },
  {
   "cell_type": "code",
   "execution_count": null,
   "metadata": {
    "id": "YBCCLACggWaM",
    "outputId": "802436cd-01a3-42e2-f76b-c4272976ec19"
   },
   "outputs": [],
   "source": [
    "\n",
    "SVM_POL = SVC(C=100, cache_size=200, class_weight=None, coef0=0.0,  decision_function_shape='ovr', degree=2, gamma=0.1, kernel='poly',  max_iter=-1,\n",
    "              probability=True, random_state=None, shrinking=True, tol=0.001, verbose=False)\n",
    "SVM_POL.fit(df_train.loc[:, df_train.columns != 'Exited'],df_train.Exited)\n",
    "print(\"Classification Report for SVM with Pol Kernel\")\n",
    "\n",
    "print(classification_report(df_train.Exited,  SVM_POL.predict(df_train.loc[:, df_train.columns != 'Exited'])))"
   ]
  },
  {
   "cell_type": "markdown",
   "metadata": {
    "id": "QE8b_keEqKzW"
   },
   "source": [
    "# Random Forest classifier"
   ]
  },
  {
   "cell_type": "code",
   "execution_count": null,
   "metadata": {
    "id": "0Wqa2-pZgZ7f",
    "outputId": "2fbd6ac6-00bc-4a99-b061-72fed4a8b7df"
   },
   "outputs": [],
   "source": [
    "\n",
    "RF = RandomForestClassifier(bootstrap=True, class_weight=None, criterion='gini',max_depth=8, max_features=6, max_leaf_nodes=None,min_impurity_decrease=0.0,\n",
    "                            min_impurity_split=None,min_samples_leaf=1, min_samples_split=3,min_weight_fraction_leaf=0.0, n_estimators=50, n_jobs=None,\n",
    "                            oob_score=False, random_state=None, verbose=0,warm_start=False)\n",
    "RF.fit(df_train.loc[:, df_train.columns != 'Exited'],df_train.Exited)\n",
    "print(\"Classification Report for Random Forest classifier\")\n",
    "\n",
    "print(classification_report(df_train.Exited,  RF.predict(df_train.loc[:, df_train.columns != 'Exited'])))"
   ]
  },
  {
   "cell_type": "markdown",
   "metadata": {
    "id": "sHhYykraqT5E"
   },
   "source": [
    "# Extreme Gradient Boost Classifier"
   ]
  },
  {
   "cell_type": "code",
   "execution_count": null,
   "metadata": {
    "id": "UriDl-CpgdG3",
    "outputId": "5537d15d-b946-41db-a1b8-58e738b53755"
   },
   "outputs": [],
   "source": [
    "\n",
    "XGB = XGBClassifier(base_score=0.5, booster='gbtree', colsample_bylevel=1,colsample_bytree=1, gamma=0.01, learning_rate=0.1, max_delta_step=0,max_depth=7,\n",
    "                    min_child_weight=5, missing=None, n_estimators=20,n_jobs=1, nthread=None, objective='binary:logistic', random_state=0,reg_alpha=0, \n",
    "                    reg_lambda=1, scale_pos_weight=1, seed=None, silent=True, subsample=1)\n",
    "XGB.fit(df_train.loc[:, df_train.columns != 'Exited'],df_train.Exited)\n",
    "print(\"Classification Report for Extreme Gradient Boost Classifier\")\n",
    "\n",
    "print(classification_report(df_train.Exited,  XGB.predict(df_train.loc[:, df_train.columns != 'Exited'])))"
   ]
  },
  {
   "cell_type": "markdown",
   "metadata": {
    "id": "uPRhBvpjqaVb"
   },
   "source": [
    "# Algorithm Comparision"
   ]
  },
  {
   "cell_type": "code",
   "execution_count": null,
   "metadata": {
    "id": "0979MmGFmDjd",
    "outputId": "3e99d759-98b1-4554-b1f5-a20e66ed20e0"
   },
   "outputs": [],
   "source": [
    "# Compare Algorithms\n",
    "import pandas\n",
    "import matplotlib.pyplot as plt\n",
    "from sklearn import model_selection\n",
    "from sklearn.linear_model import LogisticRegression\n",
    "from sklearn.tree import DecisionTreeClassifier\n",
    "from sklearn.neighbors import KNeighborsClassifier\n",
    "from sklearn.discriminant_analysis import LinearDiscriminantAnalysis\n",
    "from sklearn.naive_bayes import GaussianNB\n",
    "from sklearn.svm import SVC\n",
    "\n",
    "# prepare configuration for cross validation test harness\n",
    "seed = 7\n",
    "# prepare models\n",
    "models = []\n",
    "models.append(('Logistic Regression', log_primal))\n",
    "#models.append(('Logistic Regression for pol 2 kernel', poly2))\n",
    "models.append(('SVM for RBF kernel', SVM_RBF))\n",
    "models.append(('SVM for POL kernel', SVM_POL))\n",
    "models.append(('Random Forest Classifier', RF))\n",
    "models.append(('XGB', XGB))\n",
    "\n",
    "# evaluate each model in turn\n",
    "results = []\n",
    "names = []\n",
    "scoring = 'accuracy'\n",
    "for name, model in models:\n",
    "    kfold = model_selection.KFold(n_splits=10)\n",
    "    cv_results = model_selection.cross_val_score(model, df_train.loc[:, df_train.columns != 'Exited'], df_train.Exited , cv=kfold, scoring=scoring)\n",
    "    results.append(cv_results)\n",
    "    names.append(name)\n",
    "    msg = \"%s: %f (%f)\" % (name, cv_results.mean(), cv_results.std())\n",
    "    print(msg)"
   ]
  },
  {
   "cell_type": "code",
   "execution_count": null,
   "metadata": {
    "id": "9_Y1p4wXrNbw",
    "outputId": "4e6e0648-1b49-4b6f-8622-7df20bd3f204"
   },
   "outputs": [],
   "source": [
    "# boxplot algorithm comparison\n",
    "fig = plt.figure(figsize =(20,10))\n",
    "fig.suptitle('Algorithm Comparison')\n",
    "ax = fig.add_subplot(111)\n",
    "plt.boxplot(results)\n",
    "ax.set_xticklabels(names)\n",
    "plt.show()"
   ]
  },
  {
   "cell_type": "markdown",
   "metadata": {
    "id": "B9zL6ZiPziqe"
   },
   "source": [
    "# The best Algorithm is Extreme Gradient Boost Classifier and Random forest classifier"
   ]
  },
  {
   "cell_type": "code",
   "execution_count": null,
   "metadata": {
    "id": "YskrNRwPzrJK"
   },
   "outputs": [],
   "source": []
  }
 ],
 "metadata": {
  "kernelspec": {
   "display_name": "Python 3",
   "language": "python",
   "name": "python3"
  },
  "language_info": {
   "codemirror_mode": {
    "name": "ipython",
    "version": 3
   },
   "file_extension": ".py",
   "mimetype": "text/x-python",
   "name": "python",
   "nbconvert_exporter": "python",
   "pygments_lexer": "ipython3",
   "version": "3.8.3"
  }
 },
 "nbformat": 4,
 "nbformat_minor": 4
}
